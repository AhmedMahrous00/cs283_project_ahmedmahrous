{
 "cells": [
  {
   "cell_type": "code",
   "execution_count": null,
   "id": "47348390-7b2c-4809-85d5-8eaa256501f5",
   "metadata": {},
   "outputs": [],
   "source": [
    "import os\n",
    "import pandas as pd\n",
    "import numpy as np\n",
    "\n",
    "folder_path = r\"C:\\Users\\mahrouaa\\CS283_Project\\DataPump\\CS283\\new_1m_binance\"\n",
    "\n",
    "returns_list = []\n",
    "\n",
    "for file in os.listdir(folder_path):\n",
    "    if file.endswith('.csv'):\n",
    "        file_path = os.path.join(folder_path, file)\n",
    "        df = pd.read_csv(file_path, usecols=['returns'])\n",
    "        returns_list.append(df)\n",
    "\n",
    "all_returns_df = pd.concat(returns_list, axis=1)\n",
    "all_returns_df = all_returns_df.drop(all_returns_df.index[0])\n",
    "all_returns_df\n"
   ]
  },
  {
   "cell_type": "code",
   "execution_count": null,
   "id": "3ef22542-82f3-4d55-88ec-1b03e5137003",
   "metadata": {},
   "outputs": [],
   "source": [
    "mean_vector = all_returns_df.mean(axis=1)\n",
    "stdev_vector = all_returns_df.std(axis=1)"
   ]
  },
  {
   "cell_type": "code",
   "execution_count": null,
   "id": "39a115e8-8b5c-44e2-a8ef-1ce9300a14a9",
   "metadata": {},
   "outputs": [],
   "source": [
    "import numpy as np\n",
    "import matplotlib.pyplot as plt\n",
    "\n",
    "\n",
    "fig, axs = plt.subplots(10, 1, figsize=(10, 20))\n",
    "\n",
    "for i in range(10):\n",
    "    return_vector = np.random.normal(mean_vector, stdev_vector)\n",
    "    price_vector = [100]\n",
    "    for ret in return_vector:\n",
    "        new_price = price_vector[-1] * (1 + (ret/100))\n",
    "        price_vector.append(new_price)\n",
    "    price_vector = np.array(price_vector)\n",
    "    \n",
    "    axs[i].plot(price_vector)  # Simplified plot command\n",
    "    axs[i].set_title(f'Price Vector {i+1} over Time')\n",
    "    axs[i].set_xlabel('Time')\n",
    "    axs[i].set_ylabel('Value')\n",
    "\n",
    "\n",
    "plt.tight_layout()\n",
    "plt.show()\n"
   ]
  }
 ],
 "metadata": {
  "kernelspec": {
   "display_name": "Python 3 (ipykernel)",
   "language": "python",
   "name": "python3"
  },
  "language_info": {
   "codemirror_mode": {
    "name": "ipython",
    "version": 3
   },
   "file_extension": ".py",
   "mimetype": "text/x-python",
   "name": "python",
   "nbconvert_exporter": "python",
   "pygments_lexer": "ipython3",
   "version": "3.11.8"
  }
 },
 "nbformat": 4,
 "nbformat_minor": 5
}
